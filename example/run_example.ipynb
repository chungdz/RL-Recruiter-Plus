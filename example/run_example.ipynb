{
 "cells": [
  {
   "cell_type": "markdown",
   "metadata": {},
   "source": [
    "# Running Example of RL-Recruiter+\n",
    "This jupyter notebook displays how to build, train the RL-Recruiter+ and do the prediction"
   ]
  },
  {
   "cell_type": "code",
   "execution_count": 11,
   "metadata": {},
   "outputs": [],
   "source": [
    "import sys\n",
    "import json\n",
    "import numpy as np\n",
    "sys.path.append('../')\n",
    "from rl_recruiter.rl_model import RL_Recruiter_plus\n",
    "from rl_recruiter.entropy_cal import type_2_entro"
   ]
  },
  {
   "cell_type": "code",
   "execution_count": 4,
   "metadata": {},
   "outputs": [],
   "source": [
    "type_2_entro('./data/trajectory.json', './data/predictability.json')"
   ]
  },
  {
   "cell_type": "code",
   "execution_count": 5,
   "metadata": {},
   "outputs": [],
   "source": [
    "rlp = RL_Recruiter_plus('./data/para_settings.json', './data/thres.json')"
   ]
  },
  {
   "cell_type": "code",
   "execution_count": 6,
   "metadata": {},
   "outputs": [
    {
     "name": "stdout",
     "output_type": "stream",
     "text": [
      "Loading trajectory Data...\n",
      "Getting eligible user list\n",
      "init record set\n",
      "load entro_daily\n",
      "train and evaluate from day to day\n"
     ]
    },
    {
     "name": "stderr",
     "output_type": "stream",
     "text": [
      "100%|██████████████████████████████████████████████████████████████████████████████████| 14/14 [03:03<00:00, 13.08s/it]"
     ]
    },
    {
     "name": "stdout",
     "output_type": "stream",
     "text": [
      "Each day's coverage:\n",
      "[664, 778, 1115, 1191, 1267, 954, 1268, 1323, 1489, 1259, 1219, 1349, 1082, 1055]\n"
     ]
    },
    {
     "name": "stderr",
     "output_type": "stream",
     "text": [
      "\n"
     ]
    }
   ],
   "source": [
    "rlp.train_and_evaluate('./data/trajectory.json', './data/predictability.json')"
   ]
  },
  {
   "cell_type": "code",
   "execution_count": 18,
   "metadata": {},
   "outputs": [],
   "source": [
    "total_person = rlp.hypara_dict['total_person']\n",
    "train_last_day = rlp.hypara_dict['train_end']\n",
    "\n",
    "with open('./data/predictability.json', 'r') as f:\n",
    "    entro_dict = json.load(f)\n",
    "\n",
    "last_day = len(entro_dict[\"0\"]) - 1\n",
    "\n",
    "entro_list = np.zeros((total_person))\n",
    "for k, v in entro_dict.items():\n",
    "    try:\n",
    "        entro_list[int(k)] = v[train_last_day - 1]\n",
    "    except:\n",
    "        pass"
   ]
  },
  {
   "cell_type": "code",
   "execution_count": null,
   "metadata": {},
   "outputs": [],
   "source": []
  }
 ],
 "metadata": {
  "kernelspec": {
   "display_name": "Python 3",
   "language": "python",
   "name": "python3"
  },
  "language_info": {
   "codemirror_mode": {
    "name": "ipython",
    "version": 3
   },
   "file_extension": ".py",
   "mimetype": "text/x-python",
   "name": "python",
   "nbconvert_exporter": "python",
   "pygments_lexer": "ipython3",
   "version": "3.8.3"
  }
 },
 "nbformat": 4,
 "nbformat_minor": 4
}
