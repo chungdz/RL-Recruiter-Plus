{
 "cells": [
  {
   "cell_type": "markdown",
   "metadata": {},
   "source": [
    "# Running Example of RL-Recruiter+\n",
    "\n",
    "This jupyter notebook displays how to build and train the RL-Recruiter+ and then do the prediction."
   ]
  },
  {
   "cell_type": "code",
   "execution_count": 11,
   "metadata": {},
   "outputs": [],
   "source": [
    "import sys\n",
    "import json\n",
    "import numpy as np\n",
    "sys.path.append('../')\n",
    "from rl_recruiter.rl_model import RL_Recruiter_plus\n",
    "from rl_recruiter.entropy_cal import type_2_entro"
   ]
  },
  {
   "cell_type": "markdown",
   "metadata": {},
   "source": [
    "First we need to obtain the predictability of each participants"
   ]
  },
  {
   "cell_type": "code",
   "execution_count": 4,
   "metadata": {},
   "outputs": [],
   "source": [
    "type_2_entro('./data/trajectory.json', './data/predictability.json')"
   ]
  },
  {
   "cell_type": "markdown",
   "metadata": {},
   "source": [
    "We build the RL-Recruiter using two parameter settings files.\n",
    "\n",
    "The first settings saved in a json file that needs to initialize the model. A example is in this [page](https://github.com/chungdz/RL-Recruiter-Plus/blob/master/example/data/para_settings.json).\n",
    "\n",
    "There are several parameters need to be deployed:\n",
    "* \"total_person\": the number of whole participants.\n",
    "* \"max_user\": the number of participants to be selected.\n",
    "* \"train_start\": the index in the list of trajectories that the model needs to begin learning.\n",
    "* \"train_end\": the index in the list of trajectories that the model needs to stop learning. For example, if the trajectories are from 10 days and each day's trajectories are gathered in a list, we set \"train_start\" as 0 and \"train_end\" as 10.\n",
    "* \"train_epoch\": the number of training epoch.\n",
    "* \"layer\": the number of rows in value function table, cannot be higher than \"max_user\", the higher the layer, the larger the table, and thus it needs more data and epoch to learn and may get a better result.\n",
    "\n",
    "There is another file needs to be imported to the model, which contains the threshold values for discretizing the entropy values which is one input to do the training and predicting. It is in the json list format. Just using our [thresholds](https://github.com/chungdz/RL-Recruiter-Plus/blob/master/example/data/thres.json) is fine. There are 100 threshold in the list. Making another file with the same format is also feasible. "
   ]
  },
  {
   "cell_type": "code",
   "execution_count": 5,
   "metadata": {},
   "outputs": [],
   "source": [
    "rlp = RL_Recruiter_plus('./data/para_settings.json', './data/thres.json')"
   ]
  },
  {
   "cell_type": "markdown",
   "metadata": {},
   "source": [
    "## Training Process\n",
    "There are two data files need to be input. \n",
    "\n",
    "The first is the trajectory data, you can see example [here](https://github.com/chungdz/RL-Recruiter-Plus/blob/master/example/data/trajectory.json). The trajectory data is a dictionary saved in json format. The key is a participant id and the value is a list of trajectory sets in each time period. The participant ids need to be mapped into consecutive integer. If there are 100 participants, then the key list in trajectory dictionary are like [\"0\", \"1\", ..., \"99\"]. One trajectory set contains nonredundant categorical integers representing the area covered by its participant in this time period. The integer \"-1\" in trajectory sets will be ignored and not counted in coverage.\n",
    "\n",
    "The other is the participants' predictability data that can be calculated from trajectory data. The format of the predictability data is also a dictionary with keys the participant ids and values the list of entroy values in each time period."
   ]
  },
  {
   "cell_type": "code",
   "execution_count": 6,
   "metadata": {},
   "outputs": [
    {
     "name": "stdout",
     "output_type": "stream",
     "text": [
      "Loading trajectory Data...\n",
      "Getting eligible user list\n",
      "init record set\n",
      "load entro_daily\n",
      "train and evaluate from day to day\n"
     ]
    },
    {
     "name": "stderr",
     "output_type": "stream",
     "text": [
      "100%|██████████████████████████████████████████████████████████████████████████████████| 14/14 [03:03<00:00, 13.08s/it]"
     ]
    },
    {
     "name": "stdout",
     "output_type": "stream",
     "text": [
      "Each day's coverage:\n",
      "[664, 778, 1115, 1191, 1267, 954, 1268, 1323, 1489, 1259, 1219, 1349, 1082, 1055]\n"
     ]
    },
    {
     "name": "stderr",
     "output_type": "stream",
     "text": [
      "\n"
     ]
    }
   ],
   "source": [
    "rlp.train_and_evaluate('./data/trajectory.json', './data/predictability.json')"
   ]
  },
  {
   "cell_type": "markdown",
   "metadata": {},
   "source": [
    "## Prediction Process\n",
    "\n",
    "There is an optional input to do the prediction. This input is a list of entropy values with the length equal to number of total participants. Value in dimension k represents the entropy value for participant with id \"k\". "
   ]
  },
  {
   "cell_type": "code",
   "execution_count": 18,
   "metadata": {},
   "outputs": [],
   "source": [
    "# First get the entropy list.(optional)\n",
    "total_person = rlp.hypara_dict['total_person']\n",
    "train_last_day = rlp.hypara_dict['train_end']\n",
    "\n",
    "with open('./data/predictability.json', 'r') as f:\n",
    "    entro_dict = json.load(f)\n",
    "\n",
    "last_day = len(entro_dict[\"0\"]) - 1\n",
    "\n",
    "entro_list = np.zeros((total_person))\n",
    "for k, v in entro_dict.items():\n",
    "    try:\n",
    "        entro_list[int(k)] = v[train_last_day - 1]\n",
    "    except:\n",
    "        pass"
   ]
  },
  {
   "cell_type": "code",
   "execution_count": 23,
   "metadata": {},
   "outputs": [
    {
     "name": "stdout",
     "output_type": "stream",
     "text": [
      "[127, 4, 1, 69, 9, 8, 129, 170, 167, 85, 152, 12, 96, 145, 42, 7, 128, 93, 5, 32]\n"
     ]
    }
   ],
   "source": [
    "# Then do the prediction.\n",
    "selected_participants = rlp.predict(entro_list=entro_list)\n",
    "print(selected_participants)"
   ]
  },
  {
   "cell_type": "code",
   "execution_count": null,
   "metadata": {},
   "outputs": [],
   "source": []
  }
 ],
 "metadata": {
  "kernelspec": {
   "display_name": "Python 3",
   "language": "python",
   "name": "python3"
  },
  "language_info": {
   "codemirror_mode": {
    "name": "ipython",
    "version": 3
   },
   "file_extension": ".py",
   "mimetype": "text/x-python",
   "name": "python",
   "nbconvert_exporter": "python",
   "pygments_lexer": "ipython3",
   "version": "3.8.3"
  }
 },
 "nbformat": 4,
 "nbformat_minor": 4
}
